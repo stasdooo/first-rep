{
  "nbformat": 4,
  "nbformat_minor": 0,
  "metadata": {
    "colab": {
      "provenance": [],
      "authorship_tag": "ABX9TyPq357vWzaLzB5r3nBBqofm",
      "include_colab_link": true
    },
    "kernelspec": {
      "name": "python3",
      "display_name": "Python 3"
    },
    "language_info": {
      "name": "python"
    }
  },
  "cells": [
    {
      "cell_type": "markdown",
      "metadata": {
        "id": "view-in-github",
        "colab_type": "text"
      },
      "source": [
        "<a href=\"https://colab.research.google.com/github/stasdooo/first-rep/blob/main/Statistika.ipynb\" target=\"_parent\"><img src=\"https://colab.research.google.com/assets/colab-badge.svg\" alt=\"Open In Colab\"/></a>"
      ]
    },
    {
      "cell_type": "markdown",
      "source": [
        "# **Statistika: Analýza platů a zaměstnaneckých atributů vývojářů dat v letech 2022–2024**"
      ],
      "metadata": {
        "id": "1n8oqhdvLtRe"
      }
    },
    {
      "cell_type": "markdown",
      "source": [
        "tabulka s nasledujicimi sloupci :* work_year, experience_level, employment_type, job_title, salary, salary_currency, salary_in_usd, employee_residence, remote_ratio, company_location, company_size*"
      ],
      "metadata": {
        "id": "FaOlp_G8L5Rz"
      }
    },
    {
      "cell_type": "markdown",
      "source": [
        "Data byla ziskana z webu [kaggle](https://www.kaggle.com/datasets/zeesolver/data-eng-salary-2024)"
      ],
      "metadata": {
        "id": "pB4vlnRQMM1c"
      }
    },
    {
      "cell_type": "markdown",
      "source": [
        "*experience_level*: Level of professional experience (e.g., junior, mid, senior).\n",
        "\n",
        "*employment_type*: Type of job contract (e.g., full-time, part-time, contract).\n",
        "\n",
        "*job_title*:The specific role or title of the employee (e.g., Data Engineer).\n",
        "\n",
        "*salary*: The compensation received, in the original currency.\n",
        "\n",
        "*salary_currency*:The currency in which the salary is paid.\n",
        "\n",
        "*salary_in_usd*:The salary converted into US dollars for comparison.\n",
        "\n",
        "*employee_residence*: The location where the employee resides.\n",
        "\n",
        "*remote_ratio*: Percentage of work done remotely.\n",
        "\n",
        "*company_location*: The geographical location of the company.\n",
        "\n",
        "*company_size*: The scale of the company, often based on employee count.*"
      ],
      "metadata": {
        "id": "KD9lkFOiMmGv"
      }
    },
    {
      "cell_type": "code",
      "source": [
        "from google.colab import files\n",
        "uploaded = files.upload()  ## Nahrájeme vstupni soubor"
      ],
      "metadata": {
        "colab": {
          "base_uri": "https://localhost:8080/",
          "height": 73
        },
        "id": "x35CxmfrOPGg",
        "outputId": "88778670-f7ea-4804-a240-2f263c407a09"
      },
      "execution_count": null,
      "outputs": [
        {
          "output_type": "display_data",
          "data": {
            "text/plain": [
              "<IPython.core.display.HTML object>"
            ],
            "text/html": [
              "\n",
              "     <input type=\"file\" id=\"files-f9abf4f9-3e10-48ef-bd1c-f21462440b0c\" name=\"files[]\" multiple disabled\n",
              "        style=\"border:none\" />\n",
              "     <output id=\"result-f9abf4f9-3e10-48ef-bd1c-f21462440b0c\">\n",
              "      Upload widget is only available when the cell has been executed in the\n",
              "      current browser session. Please rerun this cell to enable.\n",
              "      </output>\n",
              "      <script>// Copyright 2017 Google LLC\n",
              "//\n",
              "// Licensed under the Apache License, Version 2.0 (the \"License\");\n",
              "// you may not use this file except in compliance with the License.\n",
              "// You may obtain a copy of the License at\n",
              "//\n",
              "//      http://www.apache.org/licenses/LICENSE-2.0\n",
              "//\n",
              "// Unless required by applicable law or agreed to in writing, software\n",
              "// distributed under the License is distributed on an \"AS IS\" BASIS,\n",
              "// WITHOUT WARRANTIES OR CONDITIONS OF ANY KIND, either express or implied.\n",
              "// See the License for the specific language governing permissions and\n",
              "// limitations under the License.\n",
              "\n",
              "/**\n",
              " * @fileoverview Helpers for google.colab Python module.\n",
              " */\n",
              "(function(scope) {\n",
              "function span(text, styleAttributes = {}) {\n",
              "  const element = document.createElement('span');\n",
              "  element.textContent = text;\n",
              "  for (const key of Object.keys(styleAttributes)) {\n",
              "    element.style[key] = styleAttributes[key];\n",
              "  }\n",
              "  return element;\n",
              "}\n",
              "\n",
              "// Max number of bytes which will be uploaded at a time.\n",
              "const MAX_PAYLOAD_SIZE = 100 * 1024;\n",
              "\n",
              "function _uploadFiles(inputId, outputId) {\n",
              "  const steps = uploadFilesStep(inputId, outputId);\n",
              "  const outputElement = document.getElementById(outputId);\n",
              "  // Cache steps on the outputElement to make it available for the next call\n",
              "  // to uploadFilesContinue from Python.\n",
              "  outputElement.steps = steps;\n",
              "\n",
              "  return _uploadFilesContinue(outputId);\n",
              "}\n",
              "\n",
              "// This is roughly an async generator (not supported in the browser yet),\n",
              "// where there are multiple asynchronous steps and the Python side is going\n",
              "// to poll for completion of each step.\n",
              "// This uses a Promise to block the python side on completion of each step,\n",
              "// then passes the result of the previous step as the input to the next step.\n",
              "function _uploadFilesContinue(outputId) {\n",
              "  const outputElement = document.getElementById(outputId);\n",
              "  const steps = outputElement.steps;\n",
              "\n",
              "  const next = steps.next(outputElement.lastPromiseValue);\n",
              "  return Promise.resolve(next.value.promise).then((value) => {\n",
              "    // Cache the last promise value to make it available to the next\n",
              "    // step of the generator.\n",
              "    outputElement.lastPromiseValue = value;\n",
              "    return next.value.response;\n",
              "  });\n",
              "}\n",
              "\n",
              "/**\n",
              " * Generator function which is called between each async step of the upload\n",
              " * process.\n",
              " * @param {string} inputId Element ID of the input file picker element.\n",
              " * @param {string} outputId Element ID of the output display.\n",
              " * @return {!Iterable<!Object>} Iterable of next steps.\n",
              " */\n",
              "function* uploadFilesStep(inputId, outputId) {\n",
              "  const inputElement = document.getElementById(inputId);\n",
              "  inputElement.disabled = false;\n",
              "\n",
              "  const outputElement = document.getElementById(outputId);\n",
              "  outputElement.innerHTML = '';\n",
              "\n",
              "  const pickedPromise = new Promise((resolve) => {\n",
              "    inputElement.addEventListener('change', (e) => {\n",
              "      resolve(e.target.files);\n",
              "    });\n",
              "  });\n",
              "\n",
              "  const cancel = document.createElement('button');\n",
              "  inputElement.parentElement.appendChild(cancel);\n",
              "  cancel.textContent = 'Cancel upload';\n",
              "  const cancelPromise = new Promise((resolve) => {\n",
              "    cancel.onclick = () => {\n",
              "      resolve(null);\n",
              "    };\n",
              "  });\n",
              "\n",
              "  // Wait for the user to pick the files.\n",
              "  const files = yield {\n",
              "    promise: Promise.race([pickedPromise, cancelPromise]),\n",
              "    response: {\n",
              "      action: 'starting',\n",
              "    }\n",
              "  };\n",
              "\n",
              "  cancel.remove();\n",
              "\n",
              "  // Disable the input element since further picks are not allowed.\n",
              "  inputElement.disabled = true;\n",
              "\n",
              "  if (!files) {\n",
              "    return {\n",
              "      response: {\n",
              "        action: 'complete',\n",
              "      }\n",
              "    };\n",
              "  }\n",
              "\n",
              "  for (const file of files) {\n",
              "    const li = document.createElement('li');\n",
              "    li.append(span(file.name, {fontWeight: 'bold'}));\n",
              "    li.append(span(\n",
              "        `(${file.type || 'n/a'}) - ${file.size} bytes, ` +\n",
              "        `last modified: ${\n",
              "            file.lastModifiedDate ? file.lastModifiedDate.toLocaleDateString() :\n",
              "                                    'n/a'} - `));\n",
              "    const percent = span('0% done');\n",
              "    li.appendChild(percent);\n",
              "\n",
              "    outputElement.appendChild(li);\n",
              "\n",
              "    const fileDataPromise = new Promise((resolve) => {\n",
              "      const reader = new FileReader();\n",
              "      reader.onload = (e) => {\n",
              "        resolve(e.target.result);\n",
              "      };\n",
              "      reader.readAsArrayBuffer(file);\n",
              "    });\n",
              "    // Wait for the data to be ready.\n",
              "    let fileData = yield {\n",
              "      promise: fileDataPromise,\n",
              "      response: {\n",
              "        action: 'continue',\n",
              "      }\n",
              "    };\n",
              "\n",
              "    // Use a chunked sending to avoid message size limits. See b/62115660.\n",
              "    let position = 0;\n",
              "    do {\n",
              "      const length = Math.min(fileData.byteLength - position, MAX_PAYLOAD_SIZE);\n",
              "      const chunk = new Uint8Array(fileData, position, length);\n",
              "      position += length;\n",
              "\n",
              "      const base64 = btoa(String.fromCharCode.apply(null, chunk));\n",
              "      yield {\n",
              "        response: {\n",
              "          action: 'append',\n",
              "          file: file.name,\n",
              "          data: base64,\n",
              "        },\n",
              "      };\n",
              "\n",
              "      let percentDone = fileData.byteLength === 0 ?\n",
              "          100 :\n",
              "          Math.round((position / fileData.byteLength) * 100);\n",
              "      percent.textContent = `${percentDone}% done`;\n",
              "\n",
              "    } while (position < fileData.byteLength);\n",
              "  }\n",
              "\n",
              "  // All done.\n",
              "  yield {\n",
              "    response: {\n",
              "      action: 'complete',\n",
              "    }\n",
              "  };\n",
              "}\n",
              "\n",
              "scope.google = scope.google || {};\n",
              "scope.google.colab = scope.google.colab || {};\n",
              "scope.google.colab._files = {\n",
              "  _uploadFiles,\n",
              "  _uploadFilesContinue,\n",
              "};\n",
              "})(self);\n",
              "</script> "
            ]
          },
          "metadata": {}
        },
        {
          "output_type": "stream",
          "name": "stdout",
          "text": [
            "Saving Dataset salary 2024.csv to Dataset salary 2024.csv\n"
          ]
        }
      ]
    },
    {
      "cell_type": "code",
      "source": [
        "import pandas as pd\n",
        "\n",
        "file_name = 'Dataset salary 2024.csv'\n",
        "\n",
        "# Načtení CSV souboru\n",
        "data = pd.read_csv(file_name)\n",
        "\n",
        "data.head(5)"
      ],
      "metadata": {
        "colab": {
          "base_uri": "https://localhost:8080/",
          "height": 206
        },
        "id": "Q4PY3cjGOqQL",
        "outputId": "098dc953-1b8b-4d81-82b6-5f7ccc934557"
      },
      "execution_count": null,
      "outputs": [
        {
          "output_type": "execute_result",
          "data": {
            "text/plain": [
              "   work_year experience_level employment_type                  job_title  \\\n",
              "0       2024               SE              FT                AI Engineer   \n",
              "1       2024               SE              FT                AI Engineer   \n",
              "2       2024               SE              FT              Data Engineer   \n",
              "3       2024               SE              FT              Data Engineer   \n",
              "4       2024               SE              FT  Machine Learning Engineer   \n",
              "\n",
              "   salary salary_currency  salary_in_usd employee_residence  remote_ratio  \\\n",
              "0  202730             USD         202730                 US             0   \n",
              "1   92118             USD          92118                 US             0   \n",
              "2  130500             USD         130500                 US             0   \n",
              "3   96000             USD          96000                 US             0   \n",
              "4  190000             USD         190000                 US             0   \n",
              "\n",
              "  company_location company_size  \n",
              "0               US            M  \n",
              "1               US            M  \n",
              "2               US            M  \n",
              "3               US            M  \n",
              "4               US            M  "
            ],
            "text/html": [
              "\n",
              "  <div id=\"df-75ac6705-74c0-46f7-bef5-30b26e6ef693\" class=\"colab-df-container\">\n",
              "    <div>\n",
              "<style scoped>\n",
              "    .dataframe tbody tr th:only-of-type {\n",
              "        vertical-align: middle;\n",
              "    }\n",
              "\n",
              "    .dataframe tbody tr th {\n",
              "        vertical-align: top;\n",
              "    }\n",
              "\n",
              "    .dataframe thead th {\n",
              "        text-align: right;\n",
              "    }\n",
              "</style>\n",
              "<table border=\"1\" class=\"dataframe\">\n",
              "  <thead>\n",
              "    <tr style=\"text-align: right;\">\n",
              "      <th></th>\n",
              "      <th>work_year</th>\n",
              "      <th>experience_level</th>\n",
              "      <th>employment_type</th>\n",
              "      <th>job_title</th>\n",
              "      <th>salary</th>\n",
              "      <th>salary_currency</th>\n",
              "      <th>salary_in_usd</th>\n",
              "      <th>employee_residence</th>\n",
              "      <th>remote_ratio</th>\n",
              "      <th>company_location</th>\n",
              "      <th>company_size</th>\n",
              "    </tr>\n",
              "  </thead>\n",
              "  <tbody>\n",
              "    <tr>\n",
              "      <th>0</th>\n",
              "      <td>2024</td>\n",
              "      <td>SE</td>\n",
              "      <td>FT</td>\n",
              "      <td>AI Engineer</td>\n",
              "      <td>202730</td>\n",
              "      <td>USD</td>\n",
              "      <td>202730</td>\n",
              "      <td>US</td>\n",
              "      <td>0</td>\n",
              "      <td>US</td>\n",
              "      <td>M</td>\n",
              "    </tr>\n",
              "    <tr>\n",
              "      <th>1</th>\n",
              "      <td>2024</td>\n",
              "      <td>SE</td>\n",
              "      <td>FT</td>\n",
              "      <td>AI Engineer</td>\n",
              "      <td>92118</td>\n",
              "      <td>USD</td>\n",
              "      <td>92118</td>\n",
              "      <td>US</td>\n",
              "      <td>0</td>\n",
              "      <td>US</td>\n",
              "      <td>M</td>\n",
              "    </tr>\n",
              "    <tr>\n",
              "      <th>2</th>\n",
              "      <td>2024</td>\n",
              "      <td>SE</td>\n",
              "      <td>FT</td>\n",
              "      <td>Data Engineer</td>\n",
              "      <td>130500</td>\n",
              "      <td>USD</td>\n",
              "      <td>130500</td>\n",
              "      <td>US</td>\n",
              "      <td>0</td>\n",
              "      <td>US</td>\n",
              "      <td>M</td>\n",
              "    </tr>\n",
              "    <tr>\n",
              "      <th>3</th>\n",
              "      <td>2024</td>\n",
              "      <td>SE</td>\n",
              "      <td>FT</td>\n",
              "      <td>Data Engineer</td>\n",
              "      <td>96000</td>\n",
              "      <td>USD</td>\n",
              "      <td>96000</td>\n",
              "      <td>US</td>\n",
              "      <td>0</td>\n",
              "      <td>US</td>\n",
              "      <td>M</td>\n",
              "    </tr>\n",
              "    <tr>\n",
              "      <th>4</th>\n",
              "      <td>2024</td>\n",
              "      <td>SE</td>\n",
              "      <td>FT</td>\n",
              "      <td>Machine Learning Engineer</td>\n",
              "      <td>190000</td>\n",
              "      <td>USD</td>\n",
              "      <td>190000</td>\n",
              "      <td>US</td>\n",
              "      <td>0</td>\n",
              "      <td>US</td>\n",
              "      <td>M</td>\n",
              "    </tr>\n",
              "  </tbody>\n",
              "</table>\n",
              "</div>\n",
              "    <div class=\"colab-df-buttons\">\n",
              "\n",
              "  <div class=\"colab-df-container\">\n",
              "    <button class=\"colab-df-convert\" onclick=\"convertToInteractive('df-75ac6705-74c0-46f7-bef5-30b26e6ef693')\"\n",
              "            title=\"Convert this dataframe to an interactive table.\"\n",
              "            style=\"display:none;\">\n",
              "\n",
              "  <svg xmlns=\"http://www.w3.org/2000/svg\" height=\"24px\" viewBox=\"0 -960 960 960\">\n",
              "    <path d=\"M120-120v-720h720v720H120Zm60-500h600v-160H180v160Zm220 220h160v-160H400v160Zm0 220h160v-160H400v160ZM180-400h160v-160H180v160Zm440 0h160v-160H620v160ZM180-180h160v-160H180v160Zm440 0h160v-160H620v160Z\"/>\n",
              "  </svg>\n",
              "    </button>\n",
              "\n",
              "  <style>\n",
              "    .colab-df-container {\n",
              "      display:flex;\n",
              "      gap: 12px;\n",
              "    }\n",
              "\n",
              "    .colab-df-convert {\n",
              "      background-color: #E8F0FE;\n",
              "      border: none;\n",
              "      border-radius: 50%;\n",
              "      cursor: pointer;\n",
              "      display: none;\n",
              "      fill: #1967D2;\n",
              "      height: 32px;\n",
              "      padding: 0 0 0 0;\n",
              "      width: 32px;\n",
              "    }\n",
              "\n",
              "    .colab-df-convert:hover {\n",
              "      background-color: #E2EBFA;\n",
              "      box-shadow: 0px 1px 2px rgba(60, 64, 67, 0.3), 0px 1px 3px 1px rgba(60, 64, 67, 0.15);\n",
              "      fill: #174EA6;\n",
              "    }\n",
              "\n",
              "    .colab-df-buttons div {\n",
              "      margin-bottom: 4px;\n",
              "    }\n",
              "\n",
              "    [theme=dark] .colab-df-convert {\n",
              "      background-color: #3B4455;\n",
              "      fill: #D2E3FC;\n",
              "    }\n",
              "\n",
              "    [theme=dark] .colab-df-convert:hover {\n",
              "      background-color: #434B5C;\n",
              "      box-shadow: 0px 1px 3px 1px rgba(0, 0, 0, 0.15);\n",
              "      filter: drop-shadow(0px 1px 2px rgba(0, 0, 0, 0.3));\n",
              "      fill: #FFFFFF;\n",
              "    }\n",
              "  </style>\n",
              "\n",
              "    <script>\n",
              "      const buttonEl =\n",
              "        document.querySelector('#df-75ac6705-74c0-46f7-bef5-30b26e6ef693 button.colab-df-convert');\n",
              "      buttonEl.style.display =\n",
              "        google.colab.kernel.accessAllowed ? 'block' : 'none';\n",
              "\n",
              "      async function convertToInteractive(key) {\n",
              "        const element = document.querySelector('#df-75ac6705-74c0-46f7-bef5-30b26e6ef693');\n",
              "        const dataTable =\n",
              "          await google.colab.kernel.invokeFunction('convertToInteractive',\n",
              "                                                    [key], {});\n",
              "        if (!dataTable) return;\n",
              "\n",
              "        const docLinkHtml = 'Like what you see? Visit the ' +\n",
              "          '<a target=\"_blank\" href=https://colab.research.google.com/notebooks/data_table.ipynb>data table notebook</a>'\n",
              "          + ' to learn more about interactive tables.';\n",
              "        element.innerHTML = '';\n",
              "        dataTable['output_type'] = 'display_data';\n",
              "        await google.colab.output.renderOutput(dataTable, element);\n",
              "        const docLink = document.createElement('div');\n",
              "        docLink.innerHTML = docLinkHtml;\n",
              "        element.appendChild(docLink);\n",
              "      }\n",
              "    </script>\n",
              "  </div>\n",
              "\n",
              "\n",
              "<div id=\"df-7a051ffd-27e4-4265-959c-a041dc286fae\">\n",
              "  <button class=\"colab-df-quickchart\" onclick=\"quickchart('df-7a051ffd-27e4-4265-959c-a041dc286fae')\"\n",
              "            title=\"Suggest charts\"\n",
              "            style=\"display:none;\">\n",
              "\n",
              "<svg xmlns=\"http://www.w3.org/2000/svg\" height=\"24px\"viewBox=\"0 0 24 24\"\n",
              "     width=\"24px\">\n",
              "    <g>\n",
              "        <path d=\"M19 3H5c-1.1 0-2 .9-2 2v14c0 1.1.9 2 2 2h14c1.1 0 2-.9 2-2V5c0-1.1-.9-2-2-2zM9 17H7v-7h2v7zm4 0h-2V7h2v10zm4 0h-2v-4h2v4z\"/>\n",
              "    </g>\n",
              "</svg>\n",
              "  </button>\n",
              "\n",
              "<style>\n",
              "  .colab-df-quickchart {\n",
              "      --bg-color: #E8F0FE;\n",
              "      --fill-color: #1967D2;\n",
              "      --hover-bg-color: #E2EBFA;\n",
              "      --hover-fill-color: #174EA6;\n",
              "      --disabled-fill-color: #AAA;\n",
              "      --disabled-bg-color: #DDD;\n",
              "  }\n",
              "\n",
              "  [theme=dark] .colab-df-quickchart {\n",
              "      --bg-color: #3B4455;\n",
              "      --fill-color: #D2E3FC;\n",
              "      --hover-bg-color: #434B5C;\n",
              "      --hover-fill-color: #FFFFFF;\n",
              "      --disabled-bg-color: #3B4455;\n",
              "      --disabled-fill-color: #666;\n",
              "  }\n",
              "\n",
              "  .colab-df-quickchart {\n",
              "    background-color: var(--bg-color);\n",
              "    border: none;\n",
              "    border-radius: 50%;\n",
              "    cursor: pointer;\n",
              "    display: none;\n",
              "    fill: var(--fill-color);\n",
              "    height: 32px;\n",
              "    padding: 0;\n",
              "    width: 32px;\n",
              "  }\n",
              "\n",
              "  .colab-df-quickchart:hover {\n",
              "    background-color: var(--hover-bg-color);\n",
              "    box-shadow: 0 1px 2px rgba(60, 64, 67, 0.3), 0 1px 3px 1px rgba(60, 64, 67, 0.15);\n",
              "    fill: var(--button-hover-fill-color);\n",
              "  }\n",
              "\n",
              "  .colab-df-quickchart-complete:disabled,\n",
              "  .colab-df-quickchart-complete:disabled:hover {\n",
              "    background-color: var(--disabled-bg-color);\n",
              "    fill: var(--disabled-fill-color);\n",
              "    box-shadow: none;\n",
              "  }\n",
              "\n",
              "  .colab-df-spinner {\n",
              "    border: 2px solid var(--fill-color);\n",
              "    border-color: transparent;\n",
              "    border-bottom-color: var(--fill-color);\n",
              "    animation:\n",
              "      spin 1s steps(1) infinite;\n",
              "  }\n",
              "\n",
              "  @keyframes spin {\n",
              "    0% {\n",
              "      border-color: transparent;\n",
              "      border-bottom-color: var(--fill-color);\n",
              "      border-left-color: var(--fill-color);\n",
              "    }\n",
              "    20% {\n",
              "      border-color: transparent;\n",
              "      border-left-color: var(--fill-color);\n",
              "      border-top-color: var(--fill-color);\n",
              "    }\n",
              "    30% {\n",
              "      border-color: transparent;\n",
              "      border-left-color: var(--fill-color);\n",
              "      border-top-color: var(--fill-color);\n",
              "      border-right-color: var(--fill-color);\n",
              "    }\n",
              "    40% {\n",
              "      border-color: transparent;\n",
              "      border-right-color: var(--fill-color);\n",
              "      border-top-color: var(--fill-color);\n",
              "    }\n",
              "    60% {\n",
              "      border-color: transparent;\n",
              "      border-right-color: var(--fill-color);\n",
              "    }\n",
              "    80% {\n",
              "      border-color: transparent;\n",
              "      border-right-color: var(--fill-color);\n",
              "      border-bottom-color: var(--fill-color);\n",
              "    }\n",
              "    90% {\n",
              "      border-color: transparent;\n",
              "      border-bottom-color: var(--fill-color);\n",
              "    }\n",
              "  }\n",
              "</style>\n",
              "\n",
              "  <script>\n",
              "    async function quickchart(key) {\n",
              "      const quickchartButtonEl =\n",
              "        document.querySelector('#' + key + ' button');\n",
              "      quickchartButtonEl.disabled = true;  // To prevent multiple clicks.\n",
              "      quickchartButtonEl.classList.add('colab-df-spinner');\n",
              "      try {\n",
              "        const charts = await google.colab.kernel.invokeFunction(\n",
              "            'suggestCharts', [key], {});\n",
              "      } catch (error) {\n",
              "        console.error('Error during call to suggestCharts:', error);\n",
              "      }\n",
              "      quickchartButtonEl.classList.remove('colab-df-spinner');\n",
              "      quickchartButtonEl.classList.add('colab-df-quickchart-complete');\n",
              "    }\n",
              "    (() => {\n",
              "      let quickchartButtonEl =\n",
              "        document.querySelector('#df-7a051ffd-27e4-4265-959c-a041dc286fae button');\n",
              "      quickchartButtonEl.style.display =\n",
              "        google.colab.kernel.accessAllowed ? 'block' : 'none';\n",
              "    })();\n",
              "  </script>\n",
              "</div>\n",
              "\n",
              "    </div>\n",
              "  </div>\n"
            ],
            "application/vnd.google.colaboratory.intrinsic+json": {
              "type": "dataframe",
              "variable_name": "data",
              "summary": "{\n  \"name\": \"data\",\n  \"rows\": 16534,\n  \"fields\": [\n    {\n      \"column\": \"work_year\",\n      \"properties\": {\n        \"dtype\": \"number\",\n        \"std\": 0,\n        \"min\": 2020,\n        \"max\": 2024,\n        \"num_unique_values\": 5,\n        \"samples\": [\n          2022,\n          2021,\n          2023\n        ],\n        \"semantic_type\": \"\",\n        \"description\": \"\"\n      }\n    },\n    {\n      \"column\": \"experience_level\",\n      \"properties\": {\n        \"dtype\": \"category\",\n        \"num_unique_values\": 4,\n        \"samples\": [\n          \"MI\",\n          \"EX\",\n          \"SE\"\n        ],\n        \"semantic_type\": \"\",\n        \"description\": \"\"\n      }\n    },\n    {\n      \"column\": \"employment_type\",\n      \"properties\": {\n        \"dtype\": \"category\",\n        \"num_unique_values\": 4,\n        \"samples\": [\n          \"CT\",\n          \"FL\",\n          \"FT\"\n        ],\n        \"semantic_type\": \"\",\n        \"description\": \"\"\n      }\n    },\n    {\n      \"column\": \"job_title\",\n      \"properties\": {\n        \"dtype\": \"category\",\n        \"num_unique_values\": 155,\n        \"samples\": [\n          \"Data Quality Analyst\",\n          \"BI Data Engineer\",\n          \"Data Analytics Specialist\"\n        ],\n        \"semantic_type\": \"\",\n        \"description\": \"\"\n      }\n    },\n    {\n      \"column\": \"salary\",\n      \"properties\": {\n        \"dtype\": \"number\",\n        \"std\": 340205,\n        \"min\": 14000,\n        \"max\": 30400000,\n        \"num_unique_values\": 2560,\n        \"samples\": [\n          162500,\n          190200,\n          158680\n        ],\n        \"semantic_type\": \"\",\n        \"description\": \"\"\n      }\n    },\n    {\n      \"column\": \"salary_currency\",\n      \"properties\": {\n        \"dtype\": \"category\",\n        \"num_unique_values\": 23,\n        \"samples\": [\n          \"JPY\",\n          \"NZD\",\n          \"USD\"\n        ],\n        \"semantic_type\": \"\",\n        \"description\": \"\"\n      }\n    },\n    {\n      \"column\": \"salary_in_usd\",\n      \"properties\": {\n        \"dtype\": \"number\",\n        \"std\": 68505,\n        \"min\": 15000,\n        \"max\": 800000,\n        \"num_unique_values\": 2939,\n        \"samples\": [\n          38290,\n          172100,\n          67979\n        ],\n        \"semantic_type\": \"\",\n        \"description\": \"\"\n      }\n    },\n    {\n      \"column\": \"employee_residence\",\n      \"properties\": {\n        \"dtype\": \"category\",\n        \"num_unique_values\": 88,\n        \"samples\": [\n          \"PR\",\n          \"US\",\n          \"SA\"\n        ],\n        \"semantic_type\": \"\",\n        \"description\": \"\"\n      }\n    },\n    {\n      \"column\": \"remote_ratio\",\n      \"properties\": {\n        \"dtype\": \"number\",\n        \"std\": 46,\n        \"min\": 0,\n        \"max\": 100,\n        \"num_unique_values\": 3,\n        \"samples\": [\n          0,\n          100,\n          50\n        ],\n        \"semantic_type\": \"\",\n        \"description\": \"\"\n      }\n    },\n    {\n      \"column\": \"company_location\",\n      \"properties\": {\n        \"dtype\": \"category\",\n        \"num_unique_values\": 77,\n        \"samples\": [\n          \"NL\",\n          \"EE\",\n          \"AR\"\n        ],\n        \"semantic_type\": \"\",\n        \"description\": \"\"\n      }\n    },\n    {\n      \"column\": \"company_size\",\n      \"properties\": {\n        \"dtype\": \"category\",\n        \"num_unique_values\": 3,\n        \"samples\": [\n          \"M\",\n          \"L\",\n          \"S\"\n        ],\n        \"semantic_type\": \"\",\n        \"description\": \"\"\n      }\n    }\n  ]\n}"
            }
          },
          "metadata": {},
          "execution_count": 3
        }
      ]
    },
    {
      "cell_type": "markdown",
      "source": [
        "# **1) Testování závislosti platu na úrovni zkušeností (používáme dvouvýběrový t-test pro nezávislé vzorky)**\n",
        "\n",
        "\n",
        "\n",
        "\n",
        "\n"
      ],
      "metadata": {
        "id": "oFsdqDkmSOal"
      }
    },
    {
      "cell_type": "markdown",
      "source": [
        "**Nulová hypotéza (H0)**: Průměrné platy mezi dvěma vybranými úrovněmi zkušeností jsou stejné.\n",
        "\n",
        "**Alternativní hypotéza (H1)**: Průměrné platy mezi dvěma vybranými úrovněmi zkušeností nejsou stejné."
      ],
      "metadata": {
        "id": "AJy14awCSnVs"
      }
    },
    {
      "cell_type": "markdown",
      "source": [
        "Rozdělíme data podle úrovně zkušeností: Senior (SE) a Junior (JE)(EN-Entry Level)."
      ],
      "metadata": {
        "id": "2InVL9ELSwQR"
      }
    },
    {
      "cell_type": "code",
      "source": [
        "seniorLevel = data[data['experience_level'] == 'SE']['salary_in_usd']\n",
        "juniorLevel = data[data['experience_level'] == 'EN']['salary_in_usd']"
      ],
      "metadata": {
        "id": "FcsXqhDT5D3d"
      },
      "execution_count": null,
      "outputs": []
    },
    {
      "cell_type": "markdown",
      "source": [
        "T-test předpokládá, že data jsou normálně rozdělena; proto zkontrolujeme normalitu"
      ],
      "metadata": {
        "id": "_IXrMTA-5ila"
      }
    },
    {
      "cell_type": "code",
      "source": [
        "import matplotlib.pyplot as plt\n",
        "import seaborn as sns\n",
        "from scipy import stats\n",
        "\n",
        "\n",
        "\n",
        "# Vizualizace - histogram\n",
        "plt.figure(figsize=(12, 6))\n",
        "\n",
        "plt.subplot(1, 2, 1)\n",
        "sns.histplot(juniorLevel, kde=True)\n",
        "plt.title('Histogram EN')\n",
        "\n",
        "plt.subplot(1, 2, 2)\n",
        "sns.histplot(seniorLevel, kde=True)\n",
        "plt.title('Histogram SE')\n",
        "plt.show()\n",
        "\n"
      ],
      "metadata": {
        "colab": {
          "base_uri": "https://localhost:8080/",
          "height": 564
        },
        "id": "vLj_IjMs2Pgj",
        "outputId": "e26aee3f-5d57-4031-e330-4b628af08d64"
      },
      "execution_count": null,
      "outputs": [
        {
          "output_type": "display_data",
          "data": {
            "text/plain": [
              "<Figure size 1200x600 with 2 Axes>"
            ],
            "image/png": "[encoded data removed]"
          },
          "metadata": {}
        }
      ]
    },
    {
      "cell_type": "markdown",
      "source": [
        " Histogram celkem vypadá dobře. Takže by se ve skutečnosti mohlo jednat o normální\n",
        " rozdělení."
      ],
      "metadata": {
        "id": "3iR9lYng7Xbl"
      }
    },
    {
      "cell_type": "markdown",
      "source": [
        "Také ověříme homogenitu rozptylu: Rozptyly v obou skupinách by měly být přibližně stejné."
      ],
      "metadata": {
        "id": "cY9ZTcs5S0jM"
      }
    },
    {
      "cell_type": "code",
      "source": [
        "import numpy as np\n",
        "\n",
        "varSenior = np.var(seniorLevel,ddof=1)\n",
        "varJunior = np.var(juniorLevel,ddof=1)\n",
        "print(f'Rozptyl SE: {varSenior}')\n",
        "print(f'Rozptyl EN: {varJunior}')"
      ],
      "metadata": {
        "colab": {
          "base_uri": "https://localhost:8080/"
        },
        "id": "bOFuKy4oGTwF",
        "outputId": "b0dcbdf9-cb87-40db-a574-91ab5e305486"
      },
      "execution_count": null,
      "outputs": [
        {
          "output_type": "stream",
          "name": "stdout",
          "text": [
            "Rozptyl SE: 4089398200.927969\n",
            "Rozptyl EN: 2687243015.6128063\n"
          ]
        }
      ]
    },
    {
      "cell_type": "markdown",
      "source": [
        "Vidíme, že rozptyly nejsou přibližně stejné, proto použijeme variantu t-testu, která nepředpokládá homogenitu rozptylu( [Welchův t-test ](https://www.geeksforgeeks.org/welchs-t-test-in-python/) )."
      ],
      "metadata": {
        "id": "Br6E-lJFSu5L"
      }
    },
    {
      "cell_type": "code",
      "source": [
        "t_stat, p_value = stats.ttest_ind(seniorLevel, juniorLevel, equal_var=False)\n",
        "print(f'T-statistika: {t_stat}')\n",
        "print(f'P-hodnota: {p_value}')"
      ],
      "metadata": {
        "colab": {
          "base_uri": "https://localhost:8080/"
        },
        "id": "1YDe2QBDSwYh",
        "outputId": "3390d788-743a-4241-d7fb-78af45b34c87"
      },
      "execution_count": null,
      "outputs": [
        {
          "output_type": "stream",
          "name": "stdout",
          "text": [
            "T-statistika: 45.938130611610134\n",
            "P-hodnota: 9.45024879872106e-309\n"
          ]
        }
      ]
    },
    {
      "cell_type": "markdown",
      "source": [
        "Zvolíme jako obvykle hladinu významnosti\n",
        "**𝛼 =0,05**\n",
        "\n"
      ],
      "metadata": {
        "id": "vbDKkBW8Wdl7"
      }
    },
    {
      "cell_type": "markdown",
      "source": [
        "# **Závěr:**\n",
        "Vidíme, že p-hodnota je mnohem menší než\n",
        "𝛼. Proto nulovou hypotézu zamítáme a docházíme k závěru, že mezi průměrnými platy dvou úrovní zkušeností existuje statisticky významný rozdíl. Vzhledem k tomu, že t-statistika = 45,94 ,  bude tento rozdíl velmi výrazný."
      ],
      "metadata": {
        "id": "bKavd9dwYghy"
      }
    },
    {
      "cell_type": "markdown",
      "source": [
        "# **2) Vliv práce na dálku na platy (použijeme lineární regresi).**"
      ],
      "metadata": {
        "id": "bCR9h7HL7FZg"
      }
    },
    {
      "cell_type": "markdown",
      "source": [
        "**Nulová hypotéza (H0):** Podíl práce na dálku nemá vliv na výši platu.\n",
        "\n",
        "**Alternativní hypotéza (H1):** Podíl práce na dálku má vliv na výši platu.\n"
      ],
      "metadata": {
        "id": "80Iy8JPeTa1J"
      }
    },
    {
      "cell_type": "code",
      "source": [
        "# Scatter plot\n",
        "plt.scatter(data['remote_ratio'], data['salary_in_usd'], color=\"blue\")\n",
        "plt.xlabel('Remote Ratio')\n",
        "plt.ylabel('Salary')\n",
        "plt.title('Vztah mezi podílem práce na dálku a platem')\n",
        "plt.show()"
      ],
      "metadata": {
        "colab": {
          "base_uri": "https://localhost:8080/",
          "height": 472
        },
        "id": "a_AOoBpPGUa1",
        "outputId": "91220042-3e4c-4a68-fb4b-f2171326b014"
      },
      "execution_count": null,
      "outputs": [
        {
          "output_type": "display_data",
          "data": {
            "text/plain": [
              "<Figure size 640x480 with 1 Axes>"
            ],
            "image/png": "[encoded data removed]"
          },
          "metadata": {}
        }
      ]
    },
    {
      "cell_type": "markdown",
      "source": [
        " Vytvoříme lineární regresní model, kde závislou proměnnou(Y) bude salary_in_usd a nezávislou proměnnou(X) remote_ratio"
      ],
      "metadata": {
        "id": "tpVXAlPWfhtF"
      }
    },
    {
      "cell_type": "code",
      "source": [
        "import statsmodels.api as sm\n",
        "\n",
        "# Definice nezávislé proměnné (přidání konstanty pro intercept)\n",
        "X = sm.add_constant(data['remote_ratio'])\n",
        "\n",
        "\n",
        "# Definice závislé proměnné\n",
        "Y = data['salary_in_usd']\n",
        "\n",
        "\n"
      ],
      "metadata": {
        "id": "bbB2MEKZG4za"
      },
      "execution_count": null,
      "outputs": []
    },
    {
      "cell_type": "markdown",
      "source": [
        "Vytvoříme lineární regresní model pomocí metody nejmenších čtverců, která hledá nejlepší lineární vztah mezi závislou proměnnou (Y) a nezávislými proměnnými (X). Vypočítame optimální koeficienty, které minimalizují rozdíly mezi skutečnými a předpovězenými hodnotami. Výsledkem je objekt obsahující odhadnuté parametry. [[odkaz na zdroj](https://www.statology.org/statsmodels-linear-regression-p-value/)]"
      ],
      "metadata": {
        "id": "qA8zLha8eaYv"
      }
    },
    {
      "cell_type": "code",
      "source": [
        "model = sm.OLS(Y, X).fit()\n",
        "\n",
        "# Výstup výsledků\n",
        "print(model.summary())\n"
      ],
      "metadata": {
        "colab": {
          "base_uri": "https://localhost:8080/"
        },
        "id": "UFpXZbLVHn_J",
        "outputId": "5718039d-ed90-4987-f203-b407d8a7bc9a"
      },
      "execution_count": null,
      "outputs": [
        {
          "output_type": "stream",
          "name": "stdout",
          "text": [
            "                            OLS Regression Results                            \n",
            "==============================================================================\n",
            "Dep. Variable:          salary_in_usd   R-squared:                       0.003\n",
            "Model:                            OLS   Adj. R-squared:                  0.003\n",
            "Method:                 Least Squares   F-statistic:                     54.44\n",
            "Date:                Thu, 08 Aug 2024   Prob (F-statistic):           1.68e-13\n",
            "Time:                        10:36:52   Log-Likelihood:            -2.0753e+05\n",
            "No. Observations:               16534   AIC:                         4.151e+05\n",
            "Df Residuals:                   16532   BIC:                         4.151e+05\n",
            "Df Model:                           1                                         \n",
            "Covariance Type:            nonrobust                                         \n",
            "================================================================================\n",
            "                   coef    std err          t      P>|t|      [0.025      0.975]\n",
            "--------------------------------------------------------------------------------\n",
            "const         1.524e+05    646.863    235.603      0.000    1.51e+05    1.54e+05\n",
            "remote_ratio   -84.8649     11.502     -7.378      0.000    -107.410     -62.319\n",
            "==============================================================================\n",
            "Omnibus:                     5822.058   Durbin-Watson:                   1.755\n",
            "Prob(Omnibus):                  0.000   Jarque-Bera (JB):            45628.949\n",
            "Skew:                           1.480   Prob(JB):                         0.00\n",
            "Kurtosis:                      10.581   Cond. No.                         68.4\n",
            "==============================================================================\n",
            "\n",
            "Notes:\n",
            "[1] Standard Errors assume that the covariance matrix of the errors is correctly specified.\n"
          ]
        }
      ]
    },
    {
      "cell_type": "code",
      "source": [
        "# Predikce pomocí modelu\n",
        "data['predicted_salary'] = model.predict(X)\n",
        "\n",
        "# Scatter plot s regresní přímkou\n",
        "plt.ylabel('Salary')\n",
        "plt.xlabel(\"Remote Ratio\")\n",
        "plt.scatter(data['remote_ratio'], data['salary_in_usd'], color=\"blue\", label='Data')\n",
        "plt.plot(data['remote_ratio'], data['predicted_salary'], color='red', label='Regresní přímka')\n",
        "plt.title('Vztah mezi podílem práce na dálku a platem')\n",
        "plt.legend()\n",
        "plt.show()"
      ],
      "metadata": {
        "colab": {
          "base_uri": "https://localhost:8080/",
          "height": 472
        },
        "id": "ibXcgrMnqJJE",
        "outputId": "b9b17248-afcf-47e6-c10a-13df39a5a9fb"
      },
      "execution_count": null,
      "outputs": [
        {
          "output_type": "display_data",
          "data": {
            "text/plain": [
              "<Figure size 640x480 with 1 Axes>"
            ],
            "image/png": "[encoded data removed]"
          },
          "metadata": {}
        }
      ]
    },
    {
      "cell_type": "markdown",
      "source": [
        "# **Závěry:**\n",
        "P-hodnota je 0,000 (což je menší než 0,05), takže můžeme říci, že koeficient pro remote_ratio je statisticky významný. To znamená, že remote_ratio ovlivňuje salary_in_usd. Koeficient remote_ratio je negativní (-84.8649 ), což naznačuje, že zvyšování remote_ratio je spojeno s poklesem platu. Nicméně, když se podíváme na graf, můžeme pozorovat, že tento vliv je minimální.\n"
      ],
      "metadata": {
        "id": "rir7sorN561k"
      }
    },
    {
      "cell_type": "markdown",
      "source": [
        "# **3) Geografické rozdíly v platech. (Chi-kvadrát test)**"
      ],
      "metadata": {
        "id": "Kij5xYC9T7-v"
      }
    },
    {
      "cell_type": "markdown",
      "source": [
        "**Nulová hypotéza (H0):** Geografická poloha zaměstnance a společnosti nemá vliv na platy. (Platy jsou nezávislé na geografické poloze.)\n",
        "\n",
        "**Alternativní hypotéza (H1):** Geografická poloha zaměstnance a společnosti má vliv na platy. (Platy jsou závislé na geografické poloze.)"
      ],
      "metadata": {
        "id": "npIZj_UdUG1T"
      }
    },
    {
      "cell_type": "markdown",
      "source": [
        "Pro zjednodušení rozdělíme geografickou polohu společnosti na Spojené státy (US) a všechny ostatní země. Dále rozdělíme platy do tří kategorií: **small**, **medium** a **big**. Následně vytvoříme kontingenční tabulku"
      ],
      "metadata": {
        "id": "glASyTN5xdB8"
      }
    },
    {
      "cell_type": "code",
      "source": [
        "data['region'] = data['employee_residence'].apply(lambda x: 'US' if x == 'US' else 'Všechny ostatní')"
      ],
      "metadata": {
        "id": "AwYlqmqioWvr"
      },
      "execution_count": null,
      "outputs": []
    },
    {
      "cell_type": "code",
      "source": [
        "\n",
        "bins = [0, 65000, 130000, np.inf]  # Hranice pro platové kategorie\n",
        "labels = ['small', 'medium', 'big']\n",
        "\n",
        "# Přiřadime platové kategorie\n",
        "data['salary_category'] = pd.cut(data['salary_in_usd'], bins=bins, labels=labels, right=False)"
      ],
      "metadata": {
        "id": "9wkIoi_cy9pb"
      },
      "execution_count": null,
      "outputs": []
    },
    {
      "cell_type": "code",
      "source": [
        "# Vytvořime tabulku kontingence\n",
        "contingency_table = pd.crosstab(data['region'], data['salary_category'])\n",
        "\n",
        "# Zobraz tabulku kontingence\n",
        "print(contingency_table)"
      ],
      "metadata": {
        "colab": {
          "base_uri": "https://localhost:8080/"
        },
        "id": "cK_49PME1M9E",
        "outputId": "7d6b09b2-7581-406f-a1d0-e817b73bd250"
      },
      "execution_count": null,
      "outputs": [
        {
          "output_type": "stream",
          "name": "stdout",
          "text": [
            "salary_category  small  medium   big\n",
            "region                              \n",
            "US                 448    4660  9359\n",
            "Všechny ostatní    771     817   479\n"
          ]
        }
      ]
    },
    {
      "cell_type": "markdown",
      "source": [
        "Máme tabulku kontingenčních pozorovaných hodnot. Ještě budeme potřebovat tabulku očekávaných hodnot. Pro výpočet očekávaných frekvencí je třeba zjistit součty řádků a sloupců. Očekávané frekvence se vypočítají podle vzorce:\n",
        "$ E_{ij} = \\frac{R_i \\times C_j}{N}$\n",
        "kde:\n",
        "- \\$( E_{i,j} \\)$ je očekávaná frekvence v i-té řádce a j-tém sloupci,\n",
        "- \\( R_i \\) je součet i-té řádky,\n",
        "- \\( C_j \\) je součet j-tého sloupce,\n",
        "- \\( N \\) je celkový součet všech pozorování.\n",
        "\n"
      ],
      "metadata": {
        "id": "tj6RLqv6_xJL"
      }
    },
    {
      "cell_type": "code",
      "source": [
        "import numpy as np\n",
        "# Součty řádků a sloupců\n",
        "row_totals = contingency_table.sum(axis=1)\n",
        "column_totals = contingency_table.sum(axis=0)\n",
        "grand_total = contingency_table.sum().sum()\n",
        "\n",
        "# Výpočet očekávaných frekvencí\n",
        "expected = np.outer(row_totals, column_totals)\n",
        "expected=expected/grand_total\n",
        "print(\"Očekávané frekvence:\")\n",
        "print(expected)"
      ],
      "metadata": {
        "colab": {
          "base_uri": "https://localhost:8080/"
        },
        "id": "L2eHtJAK18u2",
        "outputId": "678ae7f9-bee6-4392-e604-81bcd2571f2a"
      },
      "execution_count": null,
      "outputs": [
        {
          "output_type": "stream",
          "name": "stdout",
          "text": [
            "Očekávané frekvence:\n",
            "[[1066.60656828 4792.2921858  8608.10124592]\n",
            " [ 152.39343172  684.7078142  1229.89875408]]\n"
          ]
        }
      ]
    },
    {
      "cell_type": "markdown",
      "source": [
        "Nyní můžeme vypočítat chí-kvadrát statistiku pomocí následujícího vzorce:\n",
        "\n",
        "  $\\chi^2 = \\sum_{i} \\frac{(O_i - E_i)^2}{E_i}$\n",
        "\n",
        "  $O_i$ - jsou pozorované hodnoty v každé kategorii\n",
        "\n",
        "  $E_i$ - jsou očekávané hodnoty v každé kategorii"
      ],
      "metadata": {
        "id": "BYE7v7pNnD14"
      }
    },
    {
      "cell_type": "code",
      "source": [
        "chi2_stat = ((contingency_table - expected)**2 / expected).sum().sum()\n",
        "\n",
        "print(f\"chí-kvadrát statistika :{chi2_stat}\")"
      ],
      "metadata": {
        "colab": {
          "base_uri": "https://localhost:8080/"
        },
        "id": "yJdz3oLInwmx",
        "outputId": "1a0cf5c1-ccd3-4643-86cc-7a676b5ee0d0"
      },
      "execution_count": null,
      "outputs": [
        {
          "output_type": "stream",
          "name": "stdout",
          "text": [
            "chí-kvadrát statistika :3423.035933971761\n"
          ]
        }
      ]
    },
    {
      "cell_type": "markdown",
      "source": [
        "Stupně volnosti pro chí-kvadrát test v kontextu tabulky kontingence spočítáme následovně: (počet řádků - 1) × (počet sloupců - 1). To znamená, že nás bude zajímat druhý stupeň volnosti."
      ],
      "metadata": {
        "id": "pU-Wc2zGx5wq"
      }
    },
    {
      "cell_type": "markdown",
      "source": [
        "Na závěr zjistíme p-hodnotu pro $\\chi^2$ = 3423,036 a 2 stupně volnosti. Pro tento účel vyhledáme tabulku chí-kvadrát(např. [chi-square distribution table](https://www.scribbr.com/wp-content/uploads/2022/05/chi-square-distribution-table.png )). Podíváme se na řádek odpovídající 2 stupňům volnosti.\n",
        "\n",
        "Vzhledem k tomu, že hodnota  $\\chi^2$\n",
        "= 3423,036 je mnohem vyšší než kritické hodnoty uvedené v tabulce, p-hodnota bude velmi malá. To znamená, že můžeme zamítnout nulovou hypotézu, která tvrdí, že geografická poloha nemá vliv na platy."
      ],
      "metadata": {
        "id": "wjxb6GHjYjoU"
      }
    }
  ]
}